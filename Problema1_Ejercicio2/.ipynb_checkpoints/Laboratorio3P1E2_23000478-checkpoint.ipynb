{
 "cells": [
  {
   "cell_type": "markdown",
   "id": "1408df57",
   "metadata": {},
   "source": [
    "![Logo](logoGalileo.png \"Logo\")\n",
    "***      \n",
    "# TEXT MINING & IMAGE RECOGNITION *Seccion* \"V\"\n",
    "## *LABORATORIO # 3*\n",
    "##### **Pedro Josué Chamale Perez** - __23000478__"
   ]
  },
  {
   "cell_type": "markdown",
   "id": "6e966842",
   "metadata": {},
   "source": [
    "2. implemente una regex para validar la direcci´on url de una p´agina web con los tipos de domino\n",
    "    (.com, .org, .edu). Note que la url incluye el protocolo (http o https) y los s´ımbolos (//www.),\n",
    "    a continuaci´on se muestran algunos ejemplos:\n",
    "    \n",
    "    https://www.guate360-porelmundo.com\n",
    "    \n",
    "    http://www.a2.net\n",
    "    \n",
    "    https://www.galileo.edu\n",
    "    \n",
    "    http://www.8.org (No valida)"
   ]
  },
  {
   "cell_type": "code",
   "execution_count": 1,
   "id": "0f4a88e8",
   "metadata": {},
   "outputs": [],
   "source": [
    "import re"
   ]
  },
  {
   "cell_type": "code",
   "execution_count": 65,
   "id": "f03e0d0d",
   "metadata": {},
   "outputs": [],
   "source": [
    "# Validando una URL\n",
    "def Validar_url(cadena):\n",
    "    # Se toma en consideración que en el enunciado del problema solicitan que solo acepten estros 3 dominios\n",
    "    # .com\n",
    "    # .edu\n",
    "    # .org\n",
    "    # El resto se descartaran debido a que es lo que se comprende que solicita el enunciado del ejercicio\n",
    "    url = re.compile(r\"^((https|http)://)(www)\\.([a-z\\d\\.-]{2,20})\\.(com|org|edu)([\\/\\w \\.-]*)*\\/?$\")\n",
    "    return bool(re.match(url, cadena))"
   ]
  },
  {
   "cell_type": "code",
   "execution_count": 69,
   "id": "18e33060",
   "metadata": {},
   "outputs": [
    {
     "data": {
      "text/plain": [
       "True"
      ]
     },
     "execution_count": 69,
     "metadata": {},
     "output_type": "execute_result"
    }
   ],
   "source": [
    "Validar_url(\"https://www.galileo.edu\")"
   ]
  },
  {
   "cell_type": "code",
   "execution_count": 70,
   "id": "92589604",
   "metadata": {},
   "outputs": [
    {
     "data": {
      "text/plain": [
       "False"
      ]
     },
     "execution_count": 70,
     "metadata": {},
     "output_type": "execute_result"
    }
   ],
   "source": [
    "Validar_url(\"https://www.8.org\")"
   ]
  },
  {
   "cell_type": "code",
   "execution_count": 71,
   "id": "827bdd73",
   "metadata": {},
   "outputs": [
    {
     "data": {
      "text/plain": [
       "True"
      ]
     },
     "execution_count": 71,
     "metadata": {},
     "output_type": "execute_result"
    }
   ],
   "source": [
    "Validar_url(\"https://www.guate360-porelmundo.com\")"
   ]
  },
  {
   "cell_type": "code",
   "execution_count": 72,
   "id": "3cb127a1",
   "metadata": {},
   "outputs": [
    {
     "data": {
      "text/plain": [
       "False"
      ]
     },
     "execution_count": 72,
     "metadata": {},
     "output_type": "execute_result"
    }
   ],
   "source": [
    "# Tomar en cuenta que el dominio .net pide que sea descartado en el enunciado del problema\n",
    "Validar_url(\"https://www.a2.net\")"
   ]
  },
  {
   "cell_type": "code",
   "execution_count": 73,
   "id": "72edcd09",
   "metadata": {},
   "outputs": [
    {
     "data": {
      "text/plain": [
       "True"
      ]
     },
     "execution_count": 73,
     "metadata": {},
     "output_type": "execute_result"
    }
   ],
   "source": [
    "Validar_url(\"https://www.galileo.edu/\")"
   ]
  },
  {
   "cell_type": "code",
   "execution_count": null,
   "id": "3aefc33c",
   "metadata": {},
   "outputs": [],
   "source": []
  }
 ],
 "metadata": {
  "kernelspec": {
   "display_name": "Python 3 (ipykernel)",
   "language": "python",
   "name": "python3"
  },
  "language_info": {
   "codemirror_mode": {
    "name": "ipython",
    "version": 3
   },
   "file_extension": ".py",
   "mimetype": "text/x-python",
   "name": "python",
   "nbconvert_exporter": "python",
   "pygments_lexer": "ipython3",
   "version": "3.9.13"
  }
 },
 "nbformat": 4,
 "nbformat_minor": 5
}
