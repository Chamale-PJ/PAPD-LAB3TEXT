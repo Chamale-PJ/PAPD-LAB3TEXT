{
 "cells": [
  {
   "cell_type": "markdown",
   "id": "365d554d",
   "metadata": {},
   "source": [
    "![Logo](logoGalileo.png \"Logo\")\n",
    "***      \n",
    "# TEXT MINING & IMAGE RECOGNITION *Seccion* \"V\"\n",
    "## *LABORATORIO # 3*\n",
    "##### **Pedro Josué Chamale Perez** - __23000478__"
   ]
  },
  {
   "cell_type": "markdown",
   "id": "ce04b19a",
   "metadata": {},
   "source": [
    "1. Implemente una regex para validar un correo electr´onico en general, a continuaci´on se mues\u0002tran algunos ejemplos.\n",
    "\n",
    "    Guate.360-porelmundo@miguate.com\n",
    "    \n",
    "    Miercoles3@hotmail.com\n",
    "    \n",
    "    Progra3.galileo@galileo.edu"
   ]
  },
  {
   "cell_type": "code",
   "execution_count": 3,
   "id": "ce22ce30",
   "metadata": {},
   "outputs": [],
   "source": [
    "#Importando Librería para expresiones Regulares\n",
    "import re"
   ]
  },
  {
   "cell_type": "code",
   "execution_count": 4,
   "id": "52ad8425",
   "metadata": {},
   "outputs": [],
   "source": [
    "def validar_correo(cadena):\n",
    "    patron = r\"^[a-zA-Z0-9_.+-]+@[a-zA-Z0-9-]+\\.[a-zA-Z0-9-.]+$\"\n",
    "    return bool(re.match(patron, cadena))"
   ]
  },
  {
   "cell_type": "code",
   "execution_count": 10,
   "id": "25224af5",
   "metadata": {},
   "outputs": [
    {
     "name": "stdout",
     "output_type": "stream",
     "text": [
      "False\n",
      "True\n",
      "True\n",
      "True\n"
     ]
    }
   ],
   "source": [
    "print(validar_correo('12315456498@131651655'))\n",
    "print(validar_correo('correoprueba@gmail.com'))\n",
    "print(validar_correo('MzrVict@galileo.edu'))\n",
    "print(validar_correo('S.Ramirez@hotmail.com'))"
   ]
  },
  {
   "cell_type": "code",
   "execution_count": 11,
   "id": "08572923",
   "metadata": {},
   "outputs": [
    {
     "name": "stdout",
     "output_type": "stream",
     "text": [
      "True\n"
     ]
    }
   ],
   "source": [
    "print(validar_correo('Guate.360-porelmundo@miguate.com'))"
   ]
  },
  {
   "cell_type": "code",
   "execution_count": 12,
   "id": "237e7ece",
   "metadata": {},
   "outputs": [
    {
     "name": "stdout",
     "output_type": "stream",
     "text": [
      "True\n"
     ]
    }
   ],
   "source": [
    "print(validar_correo('Miercoles3@hotmail.com'))"
   ]
  },
  {
   "cell_type": "code",
   "execution_count": 13,
   "id": "c575f985",
   "metadata": {},
   "outputs": [
    {
     "name": "stdout",
     "output_type": "stream",
     "text": [
      "True\n"
     ]
    }
   ],
   "source": [
    "print(validar_correo('Progra3.galileo@galileo.edu'))"
   ]
  }
 ],
 "metadata": {
  "kernelspec": {
   "display_name": "Python 3 (ipykernel)",
   "language": "python",
   "name": "python3"
  },
  "language_info": {
   "codemirror_mode": {
    "name": "ipython",
    "version": 3
   },
   "file_extension": ".py",
   "mimetype": "text/x-python",
   "name": "python",
   "nbconvert_exporter": "python",
   "pygments_lexer": "ipython3",
   "version": "3.9.13"
  }
 },
 "nbformat": 4,
 "nbformat_minor": 5
}
