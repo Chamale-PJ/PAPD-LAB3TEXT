{
 "cells": [
  {
   "cell_type": "markdown",
   "id": "c00cf96c",
   "metadata": {},
   "source": [
    "![Logo](logoGalileo.png \"Logo\")\n",
    "***      \n",
    "# TEXT MINING & IMAGE RECOGNITION *Seccion* \"V\"\n",
    "## *LABORATORIO # 3*\n",
    "##### **Pedro Josué Chamale Perez** - __23000478__"
   ]
  },
  {
   "cell_type": "markdown",
   "id": "9b92b006",
   "metadata": {},
   "source": [
    "3. Implemente una regex para validar una MAC Address, notar que las mac addres est´an divididas en 6 bloques de caracteres hexadecimales, es decir que los s´ımbolos solo pueden variar del 0 al 9 y las letras de la A a la F. a continuaci´on se muestran algunos ejemplos:\n",
    "\n",
    "    5A 6F AF 8C 9B 1D\n",
    "    \n",
    "    6D 6C 4D 3A EB 3F\n",
    "    \n",
    "    3A 7C FA C8 6D 4J (no valida por que el ultimo bloque contiene una J)\n"
   ]
  },
  {
   "cell_type": "code",
   "execution_count": 22,
   "id": "e6e58dd9",
   "metadata": {},
   "outputs": [],
   "source": [
    "import re\n",
    "\n",
    "def validar_MacAddress(cadena):\n",
    "    \n",
    "    # Para este patron se consideran unicamente las letras en mayusculas, las letras en minusculas serán descartadas\n",
    "    \n",
    "    patron = r\"^([A-F0-9]{2} )([A-F0-9]{2} )([A-F0-9]{2} )([A-F0-9]{2} )([A-F0-9]{2} )([A-F0-9]{2})$\"\n",
    "    \n",
    "    return bool(re.match(patron, cadena))"
   ]
  },
  {
   "cell_type": "code",
   "execution_count": 23,
   "id": "af65a69a",
   "metadata": {},
   "outputs": [
    {
     "data": {
      "text/plain": [
       "True"
      ]
     },
     "execution_count": 23,
     "metadata": {},
     "output_type": "execute_result"
    }
   ],
   "source": [
    "validar_MacAddress(\"5A 6F AF 8C 9B 1D\")"
   ]
  },
  {
   "cell_type": "code",
   "execution_count": 24,
   "id": "a57a0029",
   "metadata": {},
   "outputs": [
    {
     "data": {
      "text/plain": [
       "True"
      ]
     },
     "execution_count": 24,
     "metadata": {},
     "output_type": "execute_result"
    }
   ],
   "source": [
    "validar_MacAddress(\"6D 6C 4D 3A EB 3F\")"
   ]
  },
  {
   "cell_type": "code",
   "execution_count": 25,
   "id": "eaf6b617",
   "metadata": {},
   "outputs": [
    {
     "data": {
      "text/plain": [
       "False"
      ]
     },
     "execution_count": 25,
     "metadata": {},
     "output_type": "execute_result"
    }
   ],
   "source": [
    "validar_MacAddress(\"3A 7C FA C8 6D 4J\")"
   ]
  },
  {
   "cell_type": "code",
   "execution_count": null,
   "id": "f952495c",
   "metadata": {},
   "outputs": [],
   "source": []
  }
 ],
 "metadata": {
  "kernelspec": {
   "display_name": "Python 3 (ipykernel)",
   "language": "python",
   "name": "python3"
  },
  "language_info": {
   "codemirror_mode": {
    "name": "ipython",
    "version": 3
   },
   "file_extension": ".py",
   "mimetype": "text/x-python",
   "name": "python",
   "nbconvert_exporter": "python",
   "pygments_lexer": "ipython3",
   "version": "3.9.13"
  }
 },
 "nbformat": 4,
 "nbformat_minor": 5
}
