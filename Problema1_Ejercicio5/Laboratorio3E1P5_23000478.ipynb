{
 "cells": [
  {
   "cell_type": "markdown",
   "id": "ded1b93b",
   "metadata": {},
   "source": [
    "![Logo](logoGalileo.png \"Logo\")\n",
    "***      \n",
    "# TEXT MINING & IMAGE RECOGNITION *Seccion* \"V\"\n",
    "## *LABORATORIO # 3*\n",
    "##### **Pedro Josué Chamale Perez** - __23000478__"
   ]
  },
  {
   "cell_type": "markdown",
   "id": "308892f7",
   "metadata": {},
   "source": [
    "5. Implemente una regex para validar una fecha con la secuencia d´ıa-mes-an˜o donde el d´ıa, mes\n",
    "    y an˜o puedan estar separados ya sea por el caracter / o el caracter - o el caracter ., notar\n",
    "    que las fechas son validas si los si los d´ıas est´an definidos desde el 1 al 31, el mes del 1 al 12\n",
    "    y el an˜o de 2000 al 2019. Tambi´en debe tomar en cuenta que los d´ıas y meses pueden estar\n",
    "    escritos ya sea con uno o dos caracteres por ejemplo: Enero puede escribirse como 1 o como 01. Los an˜os tambi´en pueden expresarse ya sea con dos o con cuatro caracteres por ejemplo: 19 o 2019 son validos. A continuaci´on se muestran algunos ejemplos:\n",
    "\n",
    "    20/1/2019\n",
    "\n",
    "    12.03.2005\n",
    "    \n",
    "    31-11-08\n",
    "    \n",
    "    1-1-2012\n",
    "    \n",
    "    12-12-22 (no valida, por que el an˜o supera al 2019)."
   ]
  },
  {
   "cell_type": "code",
   "execution_count": 24,
   "id": "cad191f1",
   "metadata": {},
   "outputs": [],
   "source": [
    "#Importando librería para expresiones regulares\n",
    "\n",
    "import re\n",
    "\n",
    "def validar_FECHA(cadena):\n",
    "    \n",
    "    # Se define la estructura para poder verificar que el valor ingresado sea un valor valido\n",
    "    \n",
    "    patron = r'^(0?[1-9]|[12][0-9]|3[01])[\\/.-](0?[1-9]|1[012])[\\/.-]([0-1][0-9]|20[0-1][0-9])$'\n",
    "    \n",
    "    # r'^(0?[1-9]|[12][0-9]|3[01])[\\/.-](0?[1-9]|1[012])[\\/.-]((19|20)\\d\\d)$'\n",
    "\n",
    "    return bool(re.match(patron, cadena))"
   ]
  },
  {
   "cell_type": "code",
   "execution_count": 29,
   "id": "c9af2eb0",
   "metadata": {},
   "outputs": [
    {
     "data": {
      "text/plain": [
       "True"
      ]
     },
     "execution_count": 29,
     "metadata": {},
     "output_type": "execute_result"
    }
   ],
   "source": [
    "validar_FECHA(\"20/1/2019\")"
   ]
  },
  {
   "cell_type": "code",
   "execution_count": 31,
   "id": "89838c03",
   "metadata": {},
   "outputs": [
    {
     "data": {
      "text/plain": [
       "True"
      ]
     },
     "execution_count": 31,
     "metadata": {},
     "output_type": "execute_result"
    }
   ],
   "source": [
    "validar_FECHA(\"12.03.2005\")"
   ]
  },
  {
   "cell_type": "code",
   "execution_count": 33,
   "id": "01dd537c",
   "metadata": {},
   "outputs": [
    {
     "data": {
      "text/plain": [
       "True"
      ]
     },
     "execution_count": 33,
     "metadata": {},
     "output_type": "execute_result"
    }
   ],
   "source": [
    "validar_FECHA(\"31-11-08\")"
   ]
  },
  {
   "cell_type": "code",
   "execution_count": 34,
   "id": "0da1c220",
   "metadata": {},
   "outputs": [
    {
     "data": {
      "text/plain": [
       "True"
      ]
     },
     "execution_count": 34,
     "metadata": {},
     "output_type": "execute_result"
    }
   ],
   "source": [
    "validar_FECHA(\"1-1-2012\")"
   ]
  },
  {
   "cell_type": "code",
   "execution_count": 35,
   "id": "740747c9",
   "metadata": {},
   "outputs": [
    {
     "data": {
      "text/plain": [
       "False"
      ]
     },
     "execution_count": 35,
     "metadata": {},
     "output_type": "execute_result"
    }
   ],
   "source": [
    "validar_FECHA(\"12-12-22\")"
   ]
  },
  {
   "cell_type": "code",
   "execution_count": null,
   "id": "ef563bac",
   "metadata": {},
   "outputs": [],
   "source": []
  }
 ],
 "metadata": {
  "kernelspec": {
   "display_name": "Python 3 (ipykernel)",
   "language": "python",
   "name": "python3"
  },
  "language_info": {
   "codemirror_mode": {
    "name": "ipython",
    "version": 3
   },
   "file_extension": ".py",
   "mimetype": "text/x-python",
   "name": "python",
   "nbconvert_exporter": "python",
   "pygments_lexer": "ipython3",
   "version": "3.9.13"
  }
 },
 "nbformat": 4,
 "nbformat_minor": 5
}
