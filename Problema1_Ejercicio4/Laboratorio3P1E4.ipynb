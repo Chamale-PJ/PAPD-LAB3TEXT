{
 "cells": [
  {
   "cell_type": "markdown",
   "id": "99a50f5b",
   "metadata": {},
   "source": [
    "![Logo](logoGalileo.png \"Logo\")\n",
    "***      \n",
    "# TEXT MINING & IMAGE RECOGNITION *Seccion* \"V\"\n",
    "## *LABORATORIO # 3*\n",
    "##### **Pedro Josué Chamale Perez** - __23000478__"
   ]
  },
  {
   "cell_type": "markdown",
   "id": "3ae60a97",
   "metadata": {},
   "source": [
    "4. Implemente una regex para validar una direcci´on IPv4, notar que las direcciones IPv4 est´an\n",
    "    divididas en 4 bloques de valores los cuales solo pueden ir desde 0 hasta 255, una ip donde\n",
    "    algunos de sus bloques sea mayor a 255 no es valida, adem´as tome en cuenta que cada bloque\n",
    "    est´a separada por un punto. A continuaci´on se muestran algunos ejemplos:\n",
    "    \n",
    "    192.16.8.1\n",
    "    \n",
    "    234.56.78.90\n",
    "    \n",
    "    1.2.3.4\n",
    "    \n",
    "    192.168.45.345 (no valida por que el ultimo bloque es mayor a 255)"
   ]
  },
  {
   "cell_type": "code",
   "execution_count": 10,
   "id": "382870f9",
   "metadata": {},
   "outputs": [],
   "source": [
    "import re\n",
    "\n",
    "def validar_IP(cadena):\n",
    "    \n",
    "    # Se define la estructura para poder verificar que el valor ingresado sea un valor valido\n",
    "    \n",
    "    \n",
    "    patron = ('^(?:(?:25[0-5]|2[0-4][0-9]|[01]?[0-9][0-9]?)\\.){3}(?:25[0-5]|2[0-4][0-9]|[01]?[0-9][0-9]?)$')\n",
    "    \n",
    "    return bool(re.match(patron, cadena))"
   ]
  },
  {
   "cell_type": "code",
   "execution_count": 11,
   "id": "09ab01dc",
   "metadata": {},
   "outputs": [
    {
     "data": {
      "text/plain": [
       "True"
      ]
     },
     "execution_count": 11,
     "metadata": {},
     "output_type": "execute_result"
    }
   ],
   "source": [
    "validar_IP(\"73.60.124.136\")"
   ]
  },
  {
   "cell_type": "code",
   "execution_count": 12,
   "id": "8cb5a358",
   "metadata": {},
   "outputs": [
    {
     "data": {
      "text/plain": [
       "True"
      ]
     },
     "execution_count": 12,
     "metadata": {},
     "output_type": "execute_result"
    }
   ],
   "source": [
    "validar_IP(\"192.16.8.1\")"
   ]
  },
  {
   "cell_type": "code",
   "execution_count": 13,
   "id": "5bbeff96",
   "metadata": {},
   "outputs": [
    {
     "data": {
      "text/plain": [
       "True"
      ]
     },
     "execution_count": 13,
     "metadata": {},
     "output_type": "execute_result"
    }
   ],
   "source": [
    "validar_IP(\"1.2.3.4\")"
   ]
  },
  {
   "cell_type": "code",
   "execution_count": 14,
   "id": "e72481aa",
   "metadata": {},
   "outputs": [
    {
     "data": {
      "text/plain": [
       "False"
      ]
     },
     "execution_count": 14,
     "metadata": {},
     "output_type": "execute_result"
    }
   ],
   "source": [
    "validar_IP(\"192.168.45.345\")"
   ]
  },
  {
   "cell_type": "code",
   "execution_count": null,
   "id": "1ef3e828",
   "metadata": {},
   "outputs": [],
   "source": []
  }
 ],
 "metadata": {
  "kernelspec": {
   "display_name": "Python 3 (ipykernel)",
   "language": "python",
   "name": "python3"
  },
  "language_info": {
   "codemirror_mode": {
    "name": "ipython",
    "version": 3
   },
   "file_extension": ".py",
   "mimetype": "text/x-python",
   "name": "python",
   "nbconvert_exporter": "python",
   "pygments_lexer": "ipython3",
   "version": "3.9.13"
  }
 },
 "nbformat": 4,
 "nbformat_minor": 5
}
