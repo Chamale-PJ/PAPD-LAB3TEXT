{
 "cells": [
  {
   "cell_type": "markdown",
   "id": "4bcbc252",
   "metadata": {},
   "source": [
    "![Logo](logoGalileo.png \"Logo\")\n",
    "***      \n",
    "# TEXT MINING & IMAGE RECOGNITION *Seccion* \"V\"\n",
    "## *LABORATORIO # 3*\n",
    "##### **Pedro Josué Chamale Perez** - __23000478__"
   ]
  },
  {
   "cell_type": "code",
   "execution_count": 1,
   "id": "51f18e19",
   "metadata": {},
   "outputs": [],
   "source": [
    "import cv2\n",
    "import os\n",
    "import numpy as np\n",
    "import pandas as pd"
   ]
  },
  {
   "cell_type": "code",
   "execution_count": 2,
   "id": "115022f1",
   "metadata": {},
   "outputs": [],
   "source": [
    "dataPath = 'C:/Users/ChamalePJ/Documents/Maestría/Trimestre III/Text Mining & Image Recognition/Laboratorios/Lab3_Desarrollo/Problema2/Datos/'\n",
    "archivos = os.listdir(dataPath)"
   ]
  },
  {
   "cell_type": "code",
   "execution_count": 3,
   "id": "a4820fec",
   "metadata": {},
   "outputs": [],
   "source": [
    "[file for file in os.listdir(dataPath) if '.txt' in file]\n",
    "files = [os.path.join(dataPath, file) for file in os.listdir(dataPath) if '.txt' in file]"
   ]
  },
  {
   "cell_type": "code",
   "execution_count": 4,
   "id": "16631335",
   "metadata": {
    "scrolled": true
   },
   "outputs": [
    {
     "name": "stderr",
     "output_type": "stream",
     "text": [
      "C:\\Users\\ChamalePJ\\AppData\\Local\\Temp\\ipykernel_16220\\2819405369.py:3: ParserWarning: Falling back to the 'python' engine because the 'c' engine does not support regex separators (separators > 1 char and different from '\\s+' are interpreted as regex); you can avoid this warning by specifying engine='python'.\n",
      "  df = df.append(pd.read_csv(files[i], sep = '[-\\/.]', index_col=False, header=None), ignore_index=True)\n",
      "C:\\Users\\ChamalePJ\\AppData\\Local\\Temp\\ipykernel_16220\\2819405369.py:3: FutureWarning: The frame.append method is deprecated and will be removed from pandas in a future version. Use pandas.concat instead.\n",
      "  df = df.append(pd.read_csv(files[i], sep = '[-\\/.]', index_col=False, header=None), ignore_index=True)\n",
      "C:\\Users\\ChamalePJ\\AppData\\Local\\Temp\\ipykernel_16220\\2819405369.py:3: ParserWarning: Falling back to the 'python' engine because the 'c' engine does not support regex separators (separators > 1 char and different from '\\s+' are interpreted as regex); you can avoid this warning by specifying engine='python'.\n",
      "  df = df.append(pd.read_csv(files[i], sep = '[-\\/.]', index_col=False, header=None), ignore_index=True)\n",
      "C:\\Users\\ChamalePJ\\AppData\\Local\\Temp\\ipykernel_16220\\2819405369.py:3: FutureWarning: The frame.append method is deprecated and will be removed from pandas in a future version. Use pandas.concat instead.\n",
      "  df = df.append(pd.read_csv(files[i], sep = '[-\\/.]', index_col=False, header=None), ignore_index=True)\n",
      "C:\\Users\\ChamalePJ\\AppData\\Local\\Temp\\ipykernel_16220\\2819405369.py:3: ParserWarning: Falling back to the 'python' engine because the 'c' engine does not support regex separators (separators > 1 char and different from '\\s+' are interpreted as regex); you can avoid this warning by specifying engine='python'.\n",
      "  df = df.append(pd.read_csv(files[i], sep = '[-\\/.]', index_col=False, header=None), ignore_index=True)\n",
      "C:\\Users\\ChamalePJ\\AppData\\Local\\Temp\\ipykernel_16220\\2819405369.py:3: FutureWarning: The frame.append method is deprecated and will be removed from pandas in a future version. Use pandas.concat instead.\n",
      "  df = df.append(pd.read_csv(files[i], sep = '[-\\/.]', index_col=False, header=None), ignore_index=True)\n",
      "C:\\Users\\ChamalePJ\\AppData\\Local\\Temp\\ipykernel_16220\\2819405369.py:3: ParserWarning: Falling back to the 'python' engine because the 'c' engine does not support regex separators (separators > 1 char and different from '\\s+' are interpreted as regex); you can avoid this warning by specifying engine='python'.\n",
      "  df = df.append(pd.read_csv(files[i], sep = '[-\\/.]', index_col=False, header=None), ignore_index=True)\n",
      "C:\\Users\\ChamalePJ\\AppData\\Local\\Temp\\ipykernel_16220\\2819405369.py:3: FutureWarning: The frame.append method is deprecated and will be removed from pandas in a future version. Use pandas.concat instead.\n",
      "  df = df.append(pd.read_csv(files[i], sep = '[-\\/.]', index_col=False, header=None), ignore_index=True)\n",
      "C:\\Users\\ChamalePJ\\AppData\\Local\\Temp\\ipykernel_16220\\2819405369.py:3: ParserWarning: Falling back to the 'python' engine because the 'c' engine does not support regex separators (separators > 1 char and different from '\\s+' are interpreted as regex); you can avoid this warning by specifying engine='python'.\n",
      "  df = df.append(pd.read_csv(files[i], sep = '[-\\/.]', index_col=False, header=None), ignore_index=True)\n",
      "C:\\Users\\ChamalePJ\\AppData\\Local\\Temp\\ipykernel_16220\\2819405369.py:3: FutureWarning: The frame.append method is deprecated and will be removed from pandas in a future version. Use pandas.concat instead.\n",
      "  df = df.append(pd.read_csv(files[i], sep = '[-\\/.]', index_col=False, header=None), ignore_index=True)\n",
      "C:\\Users\\ChamalePJ\\AppData\\Local\\Temp\\ipykernel_16220\\2819405369.py:3: ParserWarning: Falling back to the 'python' engine because the 'c' engine does not support regex separators (separators > 1 char and different from '\\s+' are interpreted as regex); you can avoid this warning by specifying engine='python'.\n",
      "  df = df.append(pd.read_csv(files[i], sep = '[-\\/.]', index_col=False, header=None), ignore_index=True)\n",
      "C:\\Users\\ChamalePJ\\AppData\\Local\\Temp\\ipykernel_16220\\2819405369.py:3: FutureWarning: The frame.append method is deprecated and will be removed from pandas in a future version. Use pandas.concat instead.\n",
      "  df = df.append(pd.read_csv(files[i], sep = '[-\\/.]', index_col=False, header=None), ignore_index=True)\n",
      "C:\\Users\\ChamalePJ\\AppData\\Local\\Temp\\ipykernel_16220\\2819405369.py:3: ParserWarning: Falling back to the 'python' engine because the 'c' engine does not support regex separators (separators > 1 char and different from '\\s+' are interpreted as regex); you can avoid this warning by specifying engine='python'.\n",
      "  df = df.append(pd.read_csv(files[i], sep = '[-\\/.]', index_col=False, header=None), ignore_index=True)\n",
      "C:\\Users\\ChamalePJ\\AppData\\Local\\Temp\\ipykernel_16220\\2819405369.py:3: FutureWarning: The frame.append method is deprecated and will be removed from pandas in a future version. Use pandas.concat instead.\n",
      "  df = df.append(pd.read_csv(files[i], sep = '[-\\/.]', index_col=False, header=None), ignore_index=True)\n",
      "C:\\Users\\ChamalePJ\\AppData\\Local\\Temp\\ipykernel_16220\\2819405369.py:3: ParserWarning: Falling back to the 'python' engine because the 'c' engine does not support regex separators (separators > 1 char and different from '\\s+' are interpreted as regex); you can avoid this warning by specifying engine='python'.\n",
      "  df = df.append(pd.read_csv(files[i], sep = '[-\\/.]', index_col=False, header=None), ignore_index=True)\n",
      "C:\\Users\\ChamalePJ\\AppData\\Local\\Temp\\ipykernel_16220\\2819405369.py:3: FutureWarning: The frame.append method is deprecated and will be removed from pandas in a future version. Use pandas.concat instead.\n",
      "  df = df.append(pd.read_csv(files[i], sep = '[-\\/.]', index_col=False, header=None), ignore_index=True)\n",
      "C:\\Users\\ChamalePJ\\AppData\\Local\\Temp\\ipykernel_16220\\2819405369.py:3: ParserWarning: Falling back to the 'python' engine because the 'c' engine does not support regex separators (separators > 1 char and different from '\\s+' are interpreted as regex); you can avoid this warning by specifying engine='python'.\n",
      "  df = df.append(pd.read_csv(files[i], sep = '[-\\/.]', index_col=False, header=None), ignore_index=True)\n",
      "C:\\Users\\ChamalePJ\\AppData\\Local\\Temp\\ipykernel_16220\\2819405369.py:3: FutureWarning: The frame.append method is deprecated and will be removed from pandas in a future version. Use pandas.concat instead.\n",
      "  df = df.append(pd.read_csv(files[i], sep = '[-\\/.]', index_col=False, header=None), ignore_index=True)\n",
      "C:\\Users\\ChamalePJ\\AppData\\Local\\Temp\\ipykernel_16220\\2819405369.py:3: ParserWarning: Falling back to the 'python' engine because the 'c' engine does not support regex separators (separators > 1 char and different from '\\s+' are interpreted as regex); you can avoid this warning by specifying engine='python'.\n",
      "  df = df.append(pd.read_csv(files[i], sep = '[-\\/.]', index_col=False, header=None), ignore_index=True)\n",
      "C:\\Users\\ChamalePJ\\AppData\\Local\\Temp\\ipykernel_16220\\2819405369.py:3: FutureWarning: The frame.append method is deprecated and will be removed from pandas in a future version. Use pandas.concat instead.\n",
      "  df = df.append(pd.read_csv(files[i], sep = '[-\\/.]', index_col=False, header=None), ignore_index=True)\n",
      "C:\\Users\\ChamalePJ\\AppData\\Local\\Temp\\ipykernel_16220\\2819405369.py:3: ParserWarning: Falling back to the 'python' engine because the 'c' engine does not support regex separators (separators > 1 char and different from '\\s+' are interpreted as regex); you can avoid this warning by specifying engine='python'.\n",
      "  df = df.append(pd.read_csv(files[i], sep = '[-\\/.]', index_col=False, header=None), ignore_index=True)\n",
      "C:\\Users\\ChamalePJ\\AppData\\Local\\Temp\\ipykernel_16220\\2819405369.py:3: FutureWarning: The frame.append method is deprecated and will be removed from pandas in a future version. Use pandas.concat instead.\n",
      "  df = df.append(pd.read_csv(files[i], sep = '[-\\/.]', index_col=False, header=None), ignore_index=True)\n",
      "C:\\Users\\ChamalePJ\\AppData\\Local\\Temp\\ipykernel_16220\\2819405369.py:3: ParserWarning: Falling back to the 'python' engine because the 'c' engine does not support regex separators (separators > 1 char and different from '\\s+' are interpreted as regex); you can avoid this warning by specifying engine='python'.\n",
      "  df = df.append(pd.read_csv(files[i], sep = '[-\\/.]', index_col=False, header=None), ignore_index=True)\n",
      "C:\\Users\\ChamalePJ\\AppData\\Local\\Temp\\ipykernel_16220\\2819405369.py:3: FutureWarning: The frame.append method is deprecated and will be removed from pandas in a future version. Use pandas.concat instead.\n",
      "  df = df.append(pd.read_csv(files[i], sep = '[-\\/.]', index_col=False, header=None), ignore_index=True)\n",
      "C:\\Users\\ChamalePJ\\AppData\\Local\\Temp\\ipykernel_16220\\2819405369.py:3: ParserWarning: Falling back to the 'python' engine because the 'c' engine does not support regex separators (separators > 1 char and different from '\\s+' are interpreted as regex); you can avoid this warning by specifying engine='python'.\n",
      "  df = df.append(pd.read_csv(files[i], sep = '[-\\/.]', index_col=False, header=None), ignore_index=True)\n",
      "C:\\Users\\ChamalePJ\\AppData\\Local\\Temp\\ipykernel_16220\\2819405369.py:3: FutureWarning: The frame.append method is deprecated and will be removed from pandas in a future version. Use pandas.concat instead.\n",
      "  df = df.append(pd.read_csv(files[i], sep = '[-\\/.]', index_col=False, header=None), ignore_index=True)\n",
      "C:\\Users\\ChamalePJ\\AppData\\Local\\Temp\\ipykernel_16220\\2819405369.py:3: ParserWarning: Falling back to the 'python' engine because the 'c' engine does not support regex separators (separators > 1 char and different from '\\s+' are interpreted as regex); you can avoid this warning by specifying engine='python'.\n",
      "  df = df.append(pd.read_csv(files[i], sep = '[-\\/.]', index_col=False, header=None), ignore_index=True)\n",
      "C:\\Users\\ChamalePJ\\AppData\\Local\\Temp\\ipykernel_16220\\2819405369.py:3: FutureWarning: The frame.append method is deprecated and will be removed from pandas in a future version. Use pandas.concat instead.\n",
      "  df = df.append(pd.read_csv(files[i], sep = '[-\\/.]', index_col=False, header=None), ignore_index=True)\n",
      "C:\\Users\\ChamalePJ\\AppData\\Local\\Temp\\ipykernel_16220\\2819405369.py:3: ParserWarning: Falling back to the 'python' engine because the 'c' engine does not support regex separators (separators > 1 char and different from '\\s+' are interpreted as regex); you can avoid this warning by specifying engine='python'.\n",
      "  df = df.append(pd.read_csv(files[i], sep = '[-\\/.]', index_col=False, header=None), ignore_index=True)\n",
      "C:\\Users\\ChamalePJ\\AppData\\Local\\Temp\\ipykernel_16220\\2819405369.py:3: FutureWarning: The frame.append method is deprecated and will be removed from pandas in a future version. Use pandas.concat instead.\n",
      "  df = df.append(pd.read_csv(files[i], sep = '[-\\/.]', index_col=False, header=None), ignore_index=True)\n",
      "C:\\Users\\ChamalePJ\\AppData\\Local\\Temp\\ipykernel_16220\\2819405369.py:3: ParserWarning: Falling back to the 'python' engine because the 'c' engine does not support regex separators (separators > 1 char and different from '\\s+' are interpreted as regex); you can avoid this warning by specifying engine='python'.\n",
      "  df = df.append(pd.read_csv(files[i], sep = '[-\\/.]', index_col=False, header=None), ignore_index=True)\n",
      "C:\\Users\\ChamalePJ\\AppData\\Local\\Temp\\ipykernel_16220\\2819405369.py:3: FutureWarning: The frame.append method is deprecated and will be removed from pandas in a future version. Use pandas.concat instead.\n",
      "  df = df.append(pd.read_csv(files[i], sep = '[-\\/.]', index_col=False, header=None), ignore_index=True)\n",
      "C:\\Users\\ChamalePJ\\AppData\\Local\\Temp\\ipykernel_16220\\2819405369.py:3: ParserWarning: Falling back to the 'python' engine because the 'c' engine does not support regex separators (separators > 1 char and different from '\\s+' are interpreted as regex); you can avoid this warning by specifying engine='python'.\n",
      "  df = df.append(pd.read_csv(files[i], sep = '[-\\/.]', index_col=False, header=None), ignore_index=True)\n",
      "C:\\Users\\ChamalePJ\\AppData\\Local\\Temp\\ipykernel_16220\\2819405369.py:3: FutureWarning: The frame.append method is deprecated and will be removed from pandas in a future version. Use pandas.concat instead.\n",
      "  df = df.append(pd.read_csv(files[i], sep = '[-\\/.]', index_col=False, header=None), ignore_index=True)\n",
      "C:\\Users\\ChamalePJ\\AppData\\Local\\Temp\\ipykernel_16220\\2819405369.py:3: ParserWarning: Falling back to the 'python' engine because the 'c' engine does not support regex separators (separators > 1 char and different from '\\s+' are interpreted as regex); you can avoid this warning by specifying engine='python'.\n",
      "  df = df.append(pd.read_csv(files[i], sep = '[-\\/.]', index_col=False, header=None), ignore_index=True)\n",
      "C:\\Users\\ChamalePJ\\AppData\\Local\\Temp\\ipykernel_16220\\2819405369.py:3: FutureWarning: The frame.append method is deprecated and will be removed from pandas in a future version. Use pandas.concat instead.\n",
      "  df = df.append(pd.read_csv(files[i], sep = '[-\\/.]', index_col=False, header=None), ignore_index=True)\n",
      "C:\\Users\\ChamalePJ\\AppData\\Local\\Temp\\ipykernel_16220\\2819405369.py:3: ParserWarning: Falling back to the 'python' engine because the 'c' engine does not support regex separators (separators > 1 char and different from '\\s+' are interpreted as regex); you can avoid this warning by specifying engine='python'.\n",
      "  df = df.append(pd.read_csv(files[i], sep = '[-\\/.]', index_col=False, header=None), ignore_index=True)\n",
      "C:\\Users\\ChamalePJ\\AppData\\Local\\Temp\\ipykernel_16220\\2819405369.py:3: FutureWarning: The frame.append method is deprecated and will be removed from pandas in a future version. Use pandas.concat instead.\n",
      "  df = df.append(pd.read_csv(files[i], sep = '[-\\/.]', index_col=False, header=None), ignore_index=True)\n",
      "C:\\Users\\ChamalePJ\\AppData\\Local\\Temp\\ipykernel_16220\\2819405369.py:3: ParserWarning: Falling back to the 'python' engine because the 'c' engine does not support regex separators (separators > 1 char and different from '\\s+' are interpreted as regex); you can avoid this warning by specifying engine='python'.\n",
      "  df = df.append(pd.read_csv(files[i], sep = '[-\\/.]', index_col=False, header=None), ignore_index=True)\n",
      "C:\\Users\\ChamalePJ\\AppData\\Local\\Temp\\ipykernel_16220\\2819405369.py:3: FutureWarning: The frame.append method is deprecated and will be removed from pandas in a future version. Use pandas.concat instead.\n",
      "  df = df.append(pd.read_csv(files[i], sep = '[-\\/.]', index_col=False, header=None), ignore_index=True)\n",
      "C:\\Users\\ChamalePJ\\AppData\\Local\\Temp\\ipykernel_16220\\2819405369.py:3: ParserWarning: Falling back to the 'python' engine because the 'c' engine does not support regex separators (separators > 1 char and different from '\\s+' are interpreted as regex); you can avoid this warning by specifying engine='python'.\n",
      "  df = df.append(pd.read_csv(files[i], sep = '[-\\/.]', index_col=False, header=None), ignore_index=True)\n",
      "C:\\Users\\ChamalePJ\\AppData\\Local\\Temp\\ipykernel_16220\\2819405369.py:3: FutureWarning: The frame.append method is deprecated and will be removed from pandas in a future version. Use pandas.concat instead.\n",
      "  df = df.append(pd.read_csv(files[i], sep = '[-\\/.]', index_col=False, header=None), ignore_index=True)\n"
     ]
    }
   ],
   "source": [
    "df = pd.DataFrame()\n",
    "for i in range(0,len(files)):\n",
    "    #Se aplica la expresión regular en el separador de la lectura del DataFrame y se van agregando archivo por archivo\n",
    "    df = df.append(pd.read_csv(files[i], sep = '[-\\/.]', index_col=False, header=None), ignore_index=True)"
   ]
  },
  {
   "cell_type": "code",
   "execution_count": 11,
   "id": "3b81c22e",
   "metadata": {},
   "outputs": [
    {
     "data": {
      "text/html": [
       "<div>\n",
       "<style scoped>\n",
       "    .dataframe tbody tr th:only-of-type {\n",
       "        vertical-align: middle;\n",
       "    }\n",
       "\n",
       "    .dataframe tbody tr th {\n",
       "        vertical-align: top;\n",
       "    }\n",
       "\n",
       "    .dataframe thead th {\n",
       "        text-align: right;\n",
       "    }\n",
       "</style>\n",
       "<table border=\"1\" class=\"dataframe\">\n",
       "  <thead>\n",
       "    <tr style=\"text-align: right;\">\n",
       "      <th></th>\n",
       "      <th>Day</th>\n",
       "      <th>Month</th>\n",
       "      <th>Year</th>\n",
       "    </tr>\n",
       "  </thead>\n",
       "  <tbody>\n",
       "    <tr>\n",
       "      <th>0</th>\n",
       "      <td>23</td>\n",
       "      <td>2</td>\n",
       "      <td>2017</td>\n",
       "    </tr>\n",
       "    <tr>\n",
       "      <th>1</th>\n",
       "      <td>21</td>\n",
       "      <td>11</td>\n",
       "      <td>2016</td>\n",
       "    </tr>\n",
       "    <tr>\n",
       "      <th>2</th>\n",
       "      <td>12</td>\n",
       "      <td>2</td>\n",
       "      <td>2017</td>\n",
       "    </tr>\n",
       "    <tr>\n",
       "      <th>3</th>\n",
       "      <td>6</td>\n",
       "      <td>6</td>\n",
       "      <td>2016</td>\n",
       "    </tr>\n",
       "    <tr>\n",
       "      <th>4</th>\n",
       "      <td>4</td>\n",
       "      <td>5</td>\n",
       "      <td>2018</td>\n",
       "    </tr>\n",
       "    <tr>\n",
       "      <th>...</th>\n",
       "      <td>...</td>\n",
       "      <td>...</td>\n",
       "      <td>...</td>\n",
       "    </tr>\n",
       "    <tr>\n",
       "      <th>20995</th>\n",
       "      <td>8</td>\n",
       "      <td>5</td>\n",
       "      <td>2016</td>\n",
       "    </tr>\n",
       "    <tr>\n",
       "      <th>20996</th>\n",
       "      <td>28</td>\n",
       "      <td>9</td>\n",
       "      <td>2016</td>\n",
       "    </tr>\n",
       "    <tr>\n",
       "      <th>20997</th>\n",
       "      <td>14</td>\n",
       "      <td>4</td>\n",
       "      <td>2019</td>\n",
       "    </tr>\n",
       "    <tr>\n",
       "      <th>20998</th>\n",
       "      <td>11</td>\n",
       "      <td>12</td>\n",
       "      <td>2014</td>\n",
       "    </tr>\n",
       "    <tr>\n",
       "      <th>20999</th>\n",
       "      <td>13</td>\n",
       "      <td>8</td>\n",
       "      <td>2018</td>\n",
       "    </tr>\n",
       "  </tbody>\n",
       "</table>\n",
       "<p>21000 rows × 3 columns</p>\n",
       "</div>"
      ],
      "text/plain": [
       "       Day Month  Year\n",
       "0       23     2  2017\n",
       "1       21    11  2016\n",
       "2       12     2  2017\n",
       "3        6     6  2016\n",
       "4        4     5  2018\n",
       "...    ...   ...   ...\n",
       "20995    8     5  2016\n",
       "20996   28     9  2016\n",
       "20997   14     4  2019\n",
       "20998   11    12  2014\n",
       "20999   13     8  2018\n",
       "\n",
       "[21000 rows x 3 columns]"
      ]
     },
     "execution_count": 11,
     "metadata": {},
     "output_type": "execute_result"
    }
   ],
   "source": [
    "df.columns = ['Day','Month','Year']\n",
    "df"
   ]
  },
  {
   "cell_type": "code",
   "execution_count": 12,
   "id": "1314dc4c",
   "metadata": {},
   "outputs": [
    {
     "data": {
      "text/plain": [
       "array([23, 21, 12,  6,  4, 19,  2, 20, 11,  5, 31, 24, 13, 25,  3, 29, 10,\n",
       "        1, 30, 16,  8,  7, 22,  9, 28, 27, 15, 14, 18, 17, 26],\n",
       "      dtype=int64)"
      ]
     },
     "execution_count": 12,
     "metadata": {},
     "output_type": "execute_result"
    }
   ],
   "source": [
    "#Verificando los valores para la columna Dia\n",
    "df['Day'].unique()"
   ]
  },
  {
   "cell_type": "code",
   "execution_count": 13,
   "id": "f82d7e98",
   "metadata": {},
   "outputs": [
    {
     "data": {
      "text/plain": [
       "array([2, 11, 6, 5, 12, 4, 9, 10, 1, 7, 3, 8, 'Nov', 'Apr', 'Jun', 'Dec',\n",
       "       'Feb', 'Mar', 'May', 'Sep', 'Aug', 'Jan', 'Jul', 'Oct'],\n",
       "      dtype=object)"
      ]
     },
     "execution_count": 13,
     "metadata": {},
     "output_type": "execute_result"
    }
   ],
   "source": [
    "#Verificando los valores para la columna Mes\n",
    "df['Month'].unique()"
   ]
  },
  {
   "cell_type": "code",
   "execution_count": 14,
   "id": "63afba06",
   "metadata": {},
   "outputs": [
    {
     "data": {
      "text/plain": [
       "array([2017, 2016, 2018, 2015, 2019, 2014], dtype=int64)"
      ]
     },
     "execution_count": 14,
     "metadata": {},
     "output_type": "execute_result"
    }
   ],
   "source": [
    "#Verificando los valores para la columna Año\n",
    "df['Year'].unique()"
   ]
  },
  {
   "cell_type": "code",
   "execution_count": 23,
   "id": "ded98721",
   "metadata": {},
   "outputs": [],
   "source": [
    "#Transformando datos de la columna Mes a valores numericos\n",
    "df.replace(['Jan','Feb','Mar','Apr','May','Jun','Jul','Aug','Sep','Oct','Nov','Dec'],[1,2,3,4,5,6,7,8,9,10,11,12], inplace=True)"
   ]
  },
  {
   "cell_type": "code",
   "execution_count": 24,
   "id": "adbf6b56",
   "metadata": {},
   "outputs": [
    {
     "name": "stdout",
     "output_type": "stream",
     "text": [
      "<class 'pandas.core.frame.DataFrame'>\n",
      "RangeIndex: 21000 entries, 0 to 20999\n",
      "Data columns (total 3 columns):\n",
      " #   Column  Non-Null Count  Dtype\n",
      "---  ------  --------------  -----\n",
      " 0   Day     21000 non-null  int64\n",
      " 1   Month   21000 non-null  int64\n",
      " 2   Year    21000 non-null  int64\n",
      "dtypes: int64(3)\n",
      "memory usage: 492.3 KB\n"
     ]
    }
   ],
   "source": [
    "df.info()"
   ]
  },
  {
   "cell_type": "code",
   "execution_count": 33,
   "id": "93cd6e95",
   "metadata": {},
   "outputs": [
    {
     "name": "stdout",
     "output_type": "stream",
     "text": [
      "El valor promedio de las fechas que se encuentran en los 21 archivos es de: \n",
      "\n"
     ]
    },
    {
     "data": {
      "text/plain": [
       "Day        15.624762\n",
       "Month       6.466476\n",
       "Year     2016.686905\n",
       "dtype: float64"
      ]
     },
     "execution_count": 33,
     "metadata": {},
     "output_type": "execute_result"
    }
   ],
   "source": [
    "print(\"El valor promedio de las fechas que se encuentran en los 21 archivos es de: \\n\")\n",
    "df.mean()"
   ]
  },
  {
   "cell_type": "code",
   "execution_count": null,
   "id": "810903e2",
   "metadata": {},
   "outputs": [],
   "source": []
  }
 ],
 "metadata": {
  "kernelspec": {
   "display_name": "Python 3 (ipykernel)",
   "language": "python",
   "name": "python3"
  },
  "language_info": {
   "codemirror_mode": {
    "name": "ipython",
    "version": 3
   },
   "file_extension": ".py",
   "mimetype": "text/x-python",
   "name": "python",
   "nbconvert_exporter": "python",
   "pygments_lexer": "ipython3",
   "version": "3.9.13"
  }
 },
 "nbformat": 4,
 "nbformat_minor": 5
}
